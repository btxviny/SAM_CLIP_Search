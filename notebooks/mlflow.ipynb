{
 "cells": [
  {
   "cell_type": "code",
   "execution_count": 1,
   "metadata": {},
   "outputs": [],
   "source": [
    "import yaml\n",
    "import cv2\n",
    "from segment_anything import build_sam, SamAutomaticMaskGenerator, build_sam_vit_b\n",
    "from PIL import Image, ImageDraw\n",
    "import clip\n",
    "import torch\n",
    "import numpy as np\n",
    "import matplotlib.pyplot as plt\n",
    "import mlflow\n",
    "from pathlib import Path"
   ]
  },
  {
   "cell_type": "code",
   "execution_count": 2,
   "metadata": {},
   "outputs": [],
   "source": [
    "with open(\"config.yaml\", \"r\") as f:\n",
    "    config = yaml.safe_load(f)\n",
    "\n",
    "images = config[\"images\"]\n",
    "queries = config[\"queries\"]\n",
    "sam_configs = config[\"sam_configs\"]\n"
   ]
  },
  {
   "cell_type": "code",
   "execution_count": 3,
   "metadata": {},
   "outputs": [
    {
     "data": {
      "text/plain": [
       "['test_images_for_mlflow/1.png',\n",
       " 'test_images_for_mlflow/2.png',\n",
       " 'test_images_for_mlflow/3.png']"
      ]
     },
     "execution_count": 3,
     "metadata": {},
     "output_type": "execute_result"
    }
   ],
   "source": [
    "images"
   ]
  },
  {
   "cell_type": "code",
   "execution_count": 4,
   "metadata": {},
   "outputs": [],
   "source": [
    "def log_image_to_mlflow(image: Image.Image, name: str):\n",
    "    path = f\"/tmp/{name}.png\"\n",
    "    image.save(path)\n",
    "    mlflow.log_artifact(path, artifact_path=\"results\")"
   ]
  },
  {
   "cell_type": "code",
   "execution_count": 5,
   "metadata": {},
   "outputs": [],
   "source": [
    "from segment_anything import build_sam, SamAutomaticMaskGenerator\n",
    "from extract_masks import get_semantic_match\n",
    "mask_generator = SamAutomaticMaskGenerator(build_sam(checkpoint=\"sam_vit_h_4b8939.pth\"))"
   ]
  },
  {
   "cell_type": "code",
   "execution_count": null,
   "metadata": {},
   "outputs": [],
   "source": [
    "mlflow.set_tracking_uri(\"http://localhost:5001\")\n",
    "mlflow.set_experiment(\"semantic_retrieval_sam\")\n",
    "\n",
    "for config in sam_configs:\n",
    "    with mlflow.start_run(run_name=config[\"name\"]):\n",
    "        mlflow.log_params(config)\n",
    "\n",
    "        sam_model =  build_sam(checkpoint=\"sam_vit_h_4b8939.pth\")\n",
    "        mask_generator = SamAutomaticMaskGenerator(\n",
    "            model=sam_model,\n",
    "            points_per_side=config[\"points_per_side\"],\n",
    "            pred_iou_thresh=config[\"pred_iou_thresh\"],\n",
    "            stability_score_thresh=config[\"stability_score_thresh\"],\n",
    "            box_nms_thresh=config[\"box_nms_thresh\"],\n",
    "            crop_n_layers=config[\"crop_n_layers\"],\n",
    "            min_mask_region_area=config[\"min_mask_region_area\"]\n",
    "        )\n",
    "        for image_path in images:\n",
    "            for query in queries:\n",
    "                result_image = get_semantic_match(image_path, query, mask_generator)\n",
    "\n",
    "                name = f\"{config['name']}_{Path(image_path).stem}_{query.replace(' ', '_')}\"\n",
    "                log_image_to_mlflow(result_image, name)"
   ]
  }
 ],
 "metadata": {
  "kernelspec": {
   "display_name": "vision",
   "language": "python",
   "name": "python3"
  },
  "language_info": {
   "codemirror_mode": {
    "name": "ipython",
    "version": 3
   },
   "file_extension": ".py",
   "mimetype": "text/x-python",
   "name": "python",
   "nbconvert_exporter": "python",
   "pygments_lexer": "ipython3",
   "version": "3.12.9"
  }
 },
 "nbformat": 4,
 "nbformat_minor": 2
}
