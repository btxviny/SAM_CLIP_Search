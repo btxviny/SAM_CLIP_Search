{
 "cells": [
  {
   "cell_type": "code",
   "execution_count": 1,
   "metadata": {},
   "outputs": [
    {
     "name": "stdout",
     "output_type": "stream",
     "text": [
      "Loaded CLIP onto device: cuda\n"
     ]
    }
   ],
   "source": [
    "import chromadb\n",
    "from vectorstore import query_vectorstore"
   ]
  },
  {
   "cell_type": "code",
   "execution_count": 2,
   "metadata": {},
   "outputs": [],
   "source": [
    "chroma_client = chromadb.PersistentClient(path=\"./vector_store/\")\n",
    "collection = chroma_client.get_collection(\"object_embeddings\")"
   ]
  },
  {
   "cell_type": "code",
   "execution_count": 5,
   "metadata": {},
   "outputs": [
    {
     "data": {
      "text/plain": [
       "[{'filename': 'red_ball.npy',\n",
       "  'object_id': 'red_ball',\n",
       "  'xc': 14.239078869648552,\n",
       "  'yc': 3.670390148138005,\n",
       "  'zc': 2.9384762503588973},\n",
       " {'zc': 2.6308741928525836,\n",
       "  'yc': 14.44808030086081,\n",
       "  'xc': 2.8511296705573907,\n",
       "  'object_id': 'scissors',\n",
       "  'filename': 'scissors.npy'},\n",
       " {'filename': 'blue_chair.npy',\n",
       "  'zc': 14.898519920408086,\n",
       "  'xc': 13.575146694229602,\n",
       "  'yc': 14.174496922965384,\n",
       "  'object_id': 'blue_chair'}]"
      ]
     },
     "execution_count": 5,
     "metadata": {},
     "output_type": "execute_result"
    }
   ],
   "source": [
    "query = \"Grab the red ball\"\n",
    "\n",
    "results = query_vectorstore(query, collection)\n",
    "results"
   ]
  },
  {
   "cell_type": "code",
   "execution_count": null,
   "metadata": {},
   "outputs": [],
   "source": []
  }
 ],
 "metadata": {
  "kernelspec": {
   "display_name": "vision",
   "language": "python",
   "name": "python3"
  },
  "language_info": {
   "codemirror_mode": {
    "name": "ipython",
    "version": 3
   },
   "file_extension": ".py",
   "mimetype": "text/x-python",
   "name": "python",
   "nbconvert_exporter": "python",
   "pygments_lexer": "ipython3",
   "version": "3.12.9"
  }
 },
 "nbformat": 4,
 "nbformat_minor": 2
}
