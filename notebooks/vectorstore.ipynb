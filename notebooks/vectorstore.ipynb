{
 "cells": [
  {
   "cell_type": "code",
   "execution_count": 5,
   "metadata": {},
   "outputs": [],
   "source": [
    "import os\n",
    "import torch\n",
    "import numpy as np\n",
    "from PIL import Image\n",
    "import matplotlib.pyplot as plt\n",
    "import random"
   ]
  },
  {
   "cell_type": "code",
   "execution_count": 7,
   "metadata": {},
   "outputs": [
    {
     "data": {
      "text/plain": [
       "0.7095694997691593"
      ]
     },
     "execution_count": 7,
     "metadata": {},
     "output_type": "execute_result"
    }
   ],
   "source": [
    "x = random.uniform(0, 15)\n",
    "x"
   ]
  },
  {
   "cell_type": "code",
   "execution_count": 74,
   "metadata": {},
   "outputs": [],
   "source": [
    "import chromadb\n",
    "chroma_client = chromadb.PersistentClient(path=\"./vector_store/\")\n",
    "for collection in chroma_client.list_collections():\n",
    "    chroma_client.delete_collection(collection.name)\n",
    "collection = chroma_client.create_collection(\n",
    "    name=\"object_embeddings\",\n",
    "    metadata={\"hnsw:space\": \"cosine\"},\n",
    ")\n"
   ]
  },
  {
   "cell_type": "code",
   "execution_count": 75,
   "metadata": {},
   "outputs": [],
   "source": [
    "embeddings_path = \"./embeddings/\"\n",
    "for embedding_file in os.listdir(embeddings_path):\n",
    "    embedding = np.load(os.path.join(embeddings_path, embedding_file))\n",
    "    collection.add(\n",
    "        documents=[embedding_file],\n",
    "        embeddings=[embedding],\n",
    "        metadatas=[\n",
    "            {\n",
    "                \"filename\": embedding_file,\n",
    "                \"object_id\": embedding_file[:-4],\n",
    "                \"xc\": random.uniform(0,15),\n",
    "                \"yc\": random.uniform(0,15),\n",
    "                \"zc\": random.uniform(0,15),\n",
    "            }\n",
    "        ],\n",
    "        ids=[embedding_file[:-4]]\n",
    "    )"
   ]
  },
  {
   "cell_type": "code",
   "execution_count": 76,
   "metadata": {},
   "outputs": [],
   "source": [
    "import clip\n",
    "device = \"cuda\" if torch.cuda.is_available() else \"cpu\"\n",
    "model, preprocess = clip.load(\"ViT-B/32\", device=device)"
   ]
  },
  {
   "cell_type": "code",
   "execution_count": 77,
   "metadata": {},
   "outputs": [],
   "source": [
    "text = clip.tokenize([\"a red ball\"]).to(device)\n",
    "\n",
    "with torch.no_grad():\n",
    "    text_features = model.encode_text(text).cpu().numpy().flatten()"
   ]
  },
  {
   "cell_type": "code",
   "execution_count": 78,
   "metadata": {},
   "outputs": [],
   "source": [
    "results = collection.query(\n",
    "    query_embeddings=text_features,\n",
    "    n_results=3,\n",
    ")"
   ]
  },
  {
   "cell_type": "code",
   "execution_count": 79,
   "metadata": {},
   "outputs": [
    {
     "data": {
      "text/plain": [
       "{'ids': [['red_ball', 'scissors', 'blue_chair']],\n",
       " 'embeddings': None,\n",
       " 'documents': [['red_ball.npy', 'scissors.npy', 'blue_chair.npy']],\n",
       " 'uris': None,\n",
       " 'included': ['metadatas', 'documents', 'distances'],\n",
       " 'data': None,\n",
       " 'metadatas': [[{'xc': 14.239078869648552,\n",
       "    'zc': 2.9384762503588973,\n",
       "    'filename': 'red_ball.npy',\n",
       "    'object_id': 'red_ball',\n",
       "    'yc': 3.670390148138005},\n",
       "   {'xc': 2.8511296705573907,\n",
       "    'zc': 2.6308741928525836,\n",
       "    'filename': 'scissors.npy',\n",
       "    'object_id': 'scissors',\n",
       "    'yc': 14.44808030086081},\n",
       "   {'yc': 14.174496922965384,\n",
       "    'zc': 14.898519920408086,\n",
       "    'filename': 'blue_chair.npy',\n",
       "    'object_id': 'blue_chair',\n",
       "    'xc': 13.575146694229602}]],\n",
       " 'distances': [[0.6693223714828491, 0.777964174747467, 0.8080158233642578]]}"
      ]
     },
     "execution_count": 79,
     "metadata": {},
     "output_type": "execute_result"
    }
   ],
   "source": [
    "results"
   ]
  },
  {
   "cell_type": "code",
   "execution_count": 73,
   "metadata": {},
   "outputs": [
    {
     "data": {
      "text/plain": [
       "[{'filename': 'red_ball.npy',\n",
       "  'xc': 13.296815562957082,\n",
       "  'yc': 14.044838087413792,\n",
       "  'object_id': 'red_ball',\n",
       "  'zc': 7.353423644890979},\n",
       " {'xc': 9.117027952791387,\n",
       "  'zc': 2.8492920993023185,\n",
       "  'filename': 'scissors.npy',\n",
       "  'yc': 9.969297068500294,\n",
       "  'object_id': 'scissors'},\n",
       " {'yc': 12.08143950449802,\n",
       "  'xc': 8.034867064120276,\n",
       "  'filename': 'blue_chair.npy',\n",
       "  'object_id': 'blue_chair',\n",
       "  'zc': 6.919447084376897}]"
      ]
     },
     "execution_count": 73,
     "metadata": {},
     "output_type": "execute_result"
    }
   ],
   "source": [
    "results['metadatas'][0]"
   ]
  },
  {
   "cell_type": "code",
   "execution_count": null,
   "metadata": {},
   "outputs": [],
   "source": []
  }
 ],
 "metadata": {
  "kernelspec": {
   "display_name": "vision",
   "language": "python",
   "name": "python3"
  },
  "language_info": {
   "codemirror_mode": {
    "name": "ipython",
    "version": 3
   },
   "file_extension": ".py",
   "mimetype": "text/x-python",
   "name": "python",
   "nbconvert_exporter": "python",
   "pygments_lexer": "ipython3",
   "version": "3.12.9"
  }
 },
 "nbformat": 4,
 "nbformat_minor": 2
}
